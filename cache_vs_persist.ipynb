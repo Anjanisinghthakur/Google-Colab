{
  "nbformat": 4,
  "nbformat_minor": 0,
  "metadata": {
    "colab": {
      "provenance": [],
      "authorship_tag": "ABX9TyMgbB6HY+geHgTh9kCTm4fk",
      "include_colab_link": true
    },
    "kernelspec": {
      "name": "python3",
      "display_name": "Python 3"
    },
    "language_info": {
      "name": "python"
    }
  },
  "cells": [
    {
      "cell_type": "markdown",
      "metadata": {
        "id": "view-in-github",
        "colab_type": "text"
      },
      "source": [
        "<a href=\"https://colab.research.google.com/github/Anjanisinghthakur/Google-Colab/blob/main/cache_vs_persist.ipynb\" target=\"_parent\"><img src=\"https://colab.research.google.com/assets/colab-badge.svg\" alt=\"Open In Colab\"/></a>"
      ]
    },
    {
      "cell_type": "code",
      "execution_count": 9,
      "metadata": {
        "colab": {
          "base_uri": "https://localhost:8080/"
        },
        "id": "DYksteqsq8x9",
        "outputId": "a535e925-e492-4746-a2a9-c46be05edbb0"
      },
      "outputs": [
        {
          "output_type": "stream",
          "name": "stdout",
          "text": [
            "+---+-------+\n",
            "| id|   name|\n",
            "+---+-------+\n",
            "|  1|  Alice|\n",
            "|  2|    Bob|\n",
            "|  3|Charlie|\n",
            "+---+-------+\n",
            "\n"
          ]
        }
      ],
      "source": [
        "from pyspark.sql import SparkSession\n",
        "from pyspark.sql.functions import *\n",
        "from pyspark import StorageLevel\n",
        "\n",
        "spark=SparkSession.builder.appName('Cache vs Persist').master('local[*]').getOrCreate()\n",
        "data = [(1, \"Alice\"), (2, \"Bob\"), (3, \"Charlie\")]\n",
        "df = spark.createDataFrame(data, [\"id\", \"name\"])\n",
        "\n",
        "# Cache the DataFrame (stores in memory)\n",
        "df.cache()\n",
        "\n",
        "# Persist with MEMORY_ONLY storage level\n",
        "df.persist(StorageLevel.MEMORY_ONLY)\n",
        "\n",
        "# Persist with MEMORY_AND_DISK storage level\n",
        "df.persist(StorageLevel.MEMORY_AND_DISK)\n",
        "\n",
        "# Persist with DISK_ONLY storage level\n",
        "df.persist(StorageLevel.DISK_ONLY)\n",
        "\n",
        "df.show()"
      ]
    }
  ]
}