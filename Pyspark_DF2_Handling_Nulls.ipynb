{
  "nbformat": 4,
  "nbformat_minor": 0,
  "metadata": {
    "colab": {
      "provenance": [],
      "authorship_tag": "ABX9TyMThcBd1N0TjKLnxIMoM0TI",
      "include_colab_link": true
    },
    "kernelspec": {
      "name": "python3",
      "display_name": "Python 3"
    },
    "language_info": {
      "name": "python"
    }
  },
  "cells": [
    {
      "cell_type": "markdown",
      "metadata": {
        "id": "view-in-github",
        "colab_type": "text"
      },
      "source": [
        "<a href=\"https://colab.research.google.com/github/Anjanisinghthakur/Google-Colab/blob/main/Pyspark_DF2_Handling_Nulls.ipynb\" target=\"_parent\"><img src=\"https://colab.research.google.com/assets/colab-badge.svg\" alt=\"Open In Colab\"/></a>"
      ]
    },
    {
      "cell_type": "code",
      "execution_count": 1,
      "metadata": {
        "colab": {
          "base_uri": "https://localhost:8080/"
        },
        "id": "29U9jBThsFWy",
        "outputId": "dda971c3-ff52-477d-f564-6a14b0d22f40"
      },
      "outputs": [
        {
          "output_type": "stream",
          "name": "stdout",
          "text": [
            "Requirement already satisfied: pyspark in /usr/local/lib/python3.11/dist-packages (3.5.4)\n",
            "Requirement already satisfied: py4j==0.10.9.7 in /usr/local/lib/python3.11/dist-packages (from pyspark) (0.10.9.7)\n"
          ]
        }
      ],
      "source": [
        "pip install pyspark"
      ]
    },
    {
      "cell_type": "code",
      "source": [
        "from pyspark.sql import SparkSession\n",
        "spark=SparkSession.builder.appName('Handling Nulls').master(\"local[*]\").getOrCreate()"
      ],
      "metadata": {
        "id": "m8lJdXOTsasB"
      },
      "execution_count": 36,
      "outputs": []
    },
    {
      "cell_type": "code",
      "source": [
        "# handle nulls fillna()\n",
        "schema_str=\"EMPLOYEE_ID int, FIRST_NAME string, LAST_NAME string, EMAIL string ,PHONE_NUMBER string, HIRE_DATE string,JOB_ID string, SALARY int,COMMISSION_PCT string, MANAGER_ID int, DEPARTMENT_ID int \"\n",
        "df=spark.read.csv(\"/content/employees.csv\", header=True, schema=schema_str)\n",
        "\n",
        "df=df.fillna({\"Email\":\"Yet to provide\",\"PHONE_NUMBER\":\"Not provided\",\"JOB_ID\": \"Hiring in prog\",\"MANAGER_ID\":0 })\n",
        "df.show()"
      ],
      "metadata": {
        "colab": {
          "base_uri": "https://localhost:8080/"
        },
        "id": "tpatmSOwsv0p",
        "outputId": "b39fc3bb-d9bd-43c8-e389-6bc662b1f497"
      },
      "execution_count": 37,
      "outputs": [
        {
          "output_type": "stream",
          "name": "stdout",
          "text": [
            "+-----------+----------+---------+--------------+------------+---------+--------------+------+--------------+----------+-------------+\n",
            "|EMPLOYEE_ID|FIRST_NAME|LAST_NAME|         EMAIL|PHONE_NUMBER|HIRE_DATE|        JOB_ID|SALARY|COMMISSION_PCT|MANAGER_ID|DEPARTMENT_ID|\n",
            "+-----------+----------+---------+--------------+------------+---------+--------------+------+--------------+----------+-------------+\n",
            "|        198|    Donald| OConnell|      DOCONNEL|650.507.9833|21-Jun-07|      SH_CLERK|  2600|            - |       124|           50|\n",
            "|        199|   Douglas|    Grant|        DGRANT|Not provided|13-Jan-08|      SH_CLERK|  2600|            - |         0|           50|\n",
            "|        200|  Jennifer|   Whalen|       JWHALEN|515.123.4444|17-Sep-03|       AD_ASST|  4400|            - |       101|         NULL|\n",
            "|        201|   Michael|Hartstein|      MHARTSTE|515.123.5555|17-Feb-04|        MK_MAN| 13000|            - |       100|           20|\n",
            "|        202|       Pat|      Fay|Yet to provide|603.123.6666|17-Aug-05|        MK_REP|  6000|            - |       201|           20|\n",
            "|        203|     Susan|   Mavris|       SMAVRIS|515.123.7777|     NULL|        HR_REP|  6500|            - |       101|           40|\n",
            "|        204|   Hermann|     Baer|         HBAER|515.123.8888|07-Jun-02|        PR_REP| 10000|            - |       101|           70|\n",
            "|        205|   Shelley|  Higgins|      SHIGGINS|515.123.8080|07-Jun-02|Hiring in prog| 12008|            - |       101|          110|\n",
            "|        206|   William|    Gietz|        WGIETZ|Not provided|07-Jun-02|    AC_ACCOUNT|  8300|            - |       205|          110|\n",
            "|        100|    Steven|     King|         SKING|515.123.4567|17-Jun-03|       AD_PRES| 24000|            - |         0|           90|\n",
            "|        101|     Neena|  Kochhar|      NKOCHHAR|515.123.4568|21-Sep-05|         AD_VP| 17000|            - |       100|           90|\n",
            "|        102|       Lex|  De Haan|       LDEHAAN|515.123.4569|13-Jan-01|         AD_VP| 17000|            - |       100|           90|\n",
            "|        103| Alexander|   Hunold|       AHUNOLD|590.423.4567|03-Jan-06|       IT_PROG|  9000|            - |       102|           60|\n",
            "|        104|     Bruce|    Ernst|        BERNST|590.423.4568|21-May-07|       IT_PROG|  6000|            - |       103|           60|\n",
            "|        105|     David|   Austin|       DAUSTIN|590.423.4569|25-Jun-05|       IT_PROG|  4800|            - |       103|           60|\n",
            "|        106|     Valli|Pataballa|      VPATABAL|590.423.4560|05-Feb-06|       IT_PROG|  4800|            - |       103|           60|\n",
            "|        107|     Diana|  Lorentz|      DLORENTZ|590.423.5567|07-Feb-07|       IT_PROG|  4200|            - |       103|           60|\n",
            "|        108|     Nancy|Greenberg|      NGREENBE|515.124.4569|17-Aug-02|        FI_MGR| 12008|            - |       101|          100|\n",
            "|        109|    Daniel|   Faviet|       DFAVIET|515.124.4169|16-Aug-02|    FI_ACCOUNT|  9000|            - |       108|          100|\n",
            "|        110|      John|     Chen|         JCHEN|515.124.4269|28-Sep-05|    FI_ACCOUNT|  8200|            - |       108|          100|\n",
            "+-----------+----------+---------+--------------+------------+---------+--------------+------+--------------+----------+-------------+\n",
            "only showing top 20 rows\n",
            "\n"
          ]
        }
      ]
    },
    {
      "cell_type": "code",
      "source": [
        "# handle nulls dropna()\n",
        "schema_str=\"EMPLOYEE_ID int, FIRST_NAME string, LAST_NAME string, EMAIL string ,PHONE_NUMBER string, HIRE_DATE string,JOB_ID string, SALARY int,COMMISSION_PCT string, MANAGER_ID int, DEPARTMENT_ID int \"\n",
        "df=spark.read.csv(\"/content/employees.csv\", header=True, schema=schema_str)\n",
        "df=df.dropna(subset=[\"HIRE_DATE\"])\n",
        "df.show()"
      ],
      "metadata": {
        "colab": {
          "base_uri": "https://localhost:8080/"
        },
        "id": "M3pnq6_2wVb-",
        "outputId": "2eee0c68-a4a2-4ad4-8198-4b836aecd884"
      },
      "execution_count": 17,
      "outputs": [
        {
          "output_type": "stream",
          "name": "stdout",
          "text": [
            "+-----------+----------+---------+--------+------------+---------+----------+------+--------------+----------+-------------+\n",
            "|EMPLOYEE_ID|FIRST_NAME|LAST_NAME|   EMAIL|PHONE_NUMBER|HIRE_DATE|    JOB_ID|SALARY|COMMISSION_PCT|MANAGER_ID|DEPARTMENT_ID|\n",
            "+-----------+----------+---------+--------+------------+---------+----------+------+--------------+----------+-------------+\n",
            "|        198|    Donald| OConnell|DOCONNEL|650.507.9833|21-Jun-07|  SH_CLERK|  2600|            - |       124|           50|\n",
            "|        199|   Douglas|    Grant|  DGRANT|        NULL|13-Jan-08|  SH_CLERK|  2600|            - |      NULL|           50|\n",
            "|        200|  Jennifer|   Whalen| JWHALEN|515.123.4444|17-Sep-03|   AD_ASST|  4400|            - |       101|         NULL|\n",
            "|        201|   Michael|Hartstein|MHARTSTE|515.123.5555|17-Feb-04|    MK_MAN| 13000|            - |       100|           20|\n",
            "|        202|       Pat|      Fay|    NULL|603.123.6666|17-Aug-05|    MK_REP|  6000|            - |       201|           20|\n",
            "|        204|   Hermann|     Baer|   HBAER|515.123.8888|07-Jun-02|    PR_REP| 10000|            - |       101|           70|\n",
            "|        205|   Shelley|  Higgins|SHIGGINS|515.123.8080|07-Jun-02|      NULL| 12008|            - |       101|          110|\n",
            "|        206|   William|    Gietz|  WGIETZ|        NULL|07-Jun-02|AC_ACCOUNT|  8300|            - |       205|          110|\n",
            "|        100|    Steven|     King|   SKING|515.123.4567|17-Jun-03|   AD_PRES| 24000|            - |      NULL|           90|\n",
            "|        101|     Neena|  Kochhar|NKOCHHAR|515.123.4568|21-Sep-05|     AD_VP| 17000|            - |       100|           90|\n",
            "|        102|       Lex|  De Haan| LDEHAAN|515.123.4569|13-Jan-01|     AD_VP| 17000|            - |       100|           90|\n",
            "|        103| Alexander|   Hunold| AHUNOLD|590.423.4567|03-Jan-06|   IT_PROG|  9000|            - |       102|           60|\n",
            "|        104|     Bruce|    Ernst|  BERNST|590.423.4568|21-May-07|   IT_PROG|  6000|            - |       103|           60|\n",
            "|        105|     David|   Austin| DAUSTIN|590.423.4569|25-Jun-05|   IT_PROG|  4800|            - |       103|           60|\n",
            "|        106|     Valli|Pataballa|VPATABAL|590.423.4560|05-Feb-06|   IT_PROG|  4800|            - |       103|           60|\n",
            "|        107|     Diana|  Lorentz|DLORENTZ|590.423.5567|07-Feb-07|   IT_PROG|  4200|            - |       103|           60|\n",
            "|        108|     Nancy|Greenberg|NGREENBE|515.124.4569|17-Aug-02|    FI_MGR| 12008|            - |       101|          100|\n",
            "|        109|    Daniel|   Faviet| DFAVIET|515.124.4169|16-Aug-02|FI_ACCOUNT|  9000|            - |       108|          100|\n",
            "|        110|      John|     Chen|   JCHEN|515.124.4269|28-Sep-05|FI_ACCOUNT|  8200|            - |       108|          100|\n",
            "|        111|    Ismael|  Sciarra|ISCIARRA|515.124.4369|30-Sep-05|FI_ACCOUNT|  7700|            - |       108|          100|\n",
            "+-----------+----------+---------+--------+------------+---------+----------+------+--------------+----------+-------------+\n",
            "only showing top 20 rows\n",
            "\n"
          ]
        }
      ]
    },
    {
      "cell_type": "code",
      "source": [
        "# handle nulls using when &isNull()\n",
        "from pyspark.sql.functions import when, coalesce, col\n",
        "schema_str=\"EMPLOYEE_ID int, FIRST_NAME string, LAST_NAME string, EMAIL string ,PHONE_NUMBER string, HIRE_DATE string,JOB_ID string, SALARY int,COMMISSION_PCT string, MANAGER_ID int, DEPARTMENT_ID int \"\n",
        "df=spark.read.csv(\"/content/employees.csv\", header=True, schema=schema_str)\n",
        "df=df.withColumn(\"new_dept\", when(df.DEPARTMENT_ID.isNull(),0).otherwise(df.DEPARTMENT_ID))\n",
        "df.show()\n",
        "# using coalesce\n",
        "df=df.withColumn(\"new_manager\", coalesce(df.MANAGER_ID,df.DEPARTMENT_ID))\n",
        "df.show()\n",
        "df.printSchema()"
      ],
      "metadata": {
        "colab": {
          "base_uri": "https://localhost:8080/"
        },
        "id": "K1BEF3vw0VQl",
        "outputId": "e8bc8543-3dfc-4637-9c04-68e237f6e974"
      },
      "execution_count": 35,
      "outputs": [
        {
          "output_type": "stream",
          "name": "stdout",
          "text": [
            "+-----------+----------+---------+--------+------------+---------+----------+------+--------------+----------+-------------+--------+\n",
            "|EMPLOYEE_ID|FIRST_NAME|LAST_NAME|   EMAIL|PHONE_NUMBER|HIRE_DATE|    JOB_ID|SALARY|COMMISSION_PCT|MANAGER_ID|DEPARTMENT_ID|new_dept|\n",
            "+-----------+----------+---------+--------+------------+---------+----------+------+--------------+----------+-------------+--------+\n",
            "|        198|    Donald| OConnell|DOCONNEL|650.507.9833|21-Jun-07|  SH_CLERK|  2600|            - |       124|           50|      50|\n",
            "|        199|   Douglas|    Grant|  DGRANT|        NULL|13-Jan-08|  SH_CLERK|  2600|            - |      NULL|           50|      50|\n",
            "|        200|  Jennifer|   Whalen| JWHALEN|515.123.4444|17-Sep-03|   AD_ASST|  4400|            - |       101|         NULL|       0|\n",
            "|        201|   Michael|Hartstein|MHARTSTE|515.123.5555|17-Feb-04|    MK_MAN| 13000|            - |       100|           20|      20|\n",
            "|        202|       Pat|      Fay|    NULL|603.123.6666|17-Aug-05|    MK_REP|  6000|            - |       201|           20|      20|\n",
            "|        203|     Susan|   Mavris| SMAVRIS|515.123.7777|     NULL|    HR_REP|  6500|            - |       101|           40|      40|\n",
            "|        204|   Hermann|     Baer|   HBAER|515.123.8888|07-Jun-02|    PR_REP| 10000|            - |       101|           70|      70|\n",
            "|        205|   Shelley|  Higgins|SHIGGINS|515.123.8080|07-Jun-02|      NULL| 12008|            - |       101|          110|     110|\n",
            "|        206|   William|    Gietz|  WGIETZ|        NULL|07-Jun-02|AC_ACCOUNT|  8300|            - |       205|          110|     110|\n",
            "|        100|    Steven|     King|   SKING|515.123.4567|17-Jun-03|   AD_PRES| 24000|            - |      NULL|           90|      90|\n",
            "|        101|     Neena|  Kochhar|NKOCHHAR|515.123.4568|21-Sep-05|     AD_VP| 17000|            - |       100|           90|      90|\n",
            "|        102|       Lex|  De Haan| LDEHAAN|515.123.4569|13-Jan-01|     AD_VP| 17000|            - |       100|           90|      90|\n",
            "|        103| Alexander|   Hunold| AHUNOLD|590.423.4567|03-Jan-06|   IT_PROG|  9000|            - |       102|           60|      60|\n",
            "|        104|     Bruce|    Ernst|  BERNST|590.423.4568|21-May-07|   IT_PROG|  6000|            - |       103|           60|      60|\n",
            "|        105|     David|   Austin| DAUSTIN|590.423.4569|25-Jun-05|   IT_PROG|  4800|            - |       103|           60|      60|\n",
            "|        106|     Valli|Pataballa|VPATABAL|590.423.4560|05-Feb-06|   IT_PROG|  4800|            - |       103|           60|      60|\n",
            "|        107|     Diana|  Lorentz|DLORENTZ|590.423.5567|07-Feb-07|   IT_PROG|  4200|            - |       103|           60|      60|\n",
            "|        108|     Nancy|Greenberg|NGREENBE|515.124.4569|17-Aug-02|    FI_MGR| 12008|            - |       101|          100|     100|\n",
            "|        109|    Daniel|   Faviet| DFAVIET|515.124.4169|16-Aug-02|FI_ACCOUNT|  9000|            - |       108|          100|     100|\n",
            "|        110|      John|     Chen|   JCHEN|515.124.4269|28-Sep-05|FI_ACCOUNT|  8200|            - |       108|          100|     100|\n",
            "+-----------+----------+---------+--------+------------+---------+----------+------+--------------+----------+-------------+--------+\n",
            "only showing top 20 rows\n",
            "\n",
            "+-----------+----------+---------+--------+------------+---------+----------+------+--------------+----------+-------------+--------+-----------+\n",
            "|EMPLOYEE_ID|FIRST_NAME|LAST_NAME|   EMAIL|PHONE_NUMBER|HIRE_DATE|    JOB_ID|SALARY|COMMISSION_PCT|MANAGER_ID|DEPARTMENT_ID|new_dept|new_manager|\n",
            "+-----------+----------+---------+--------+------------+---------+----------+------+--------------+----------+-------------+--------+-----------+\n",
            "|        198|    Donald| OConnell|DOCONNEL|650.507.9833|21-Jun-07|  SH_CLERK|  2600|            - |       124|           50|      50|        124|\n",
            "|        199|   Douglas|    Grant|  DGRANT|        NULL|13-Jan-08|  SH_CLERK|  2600|            - |      NULL|           50|      50|         50|\n",
            "|        200|  Jennifer|   Whalen| JWHALEN|515.123.4444|17-Sep-03|   AD_ASST|  4400|            - |       101|         NULL|       0|        101|\n",
            "|        201|   Michael|Hartstein|MHARTSTE|515.123.5555|17-Feb-04|    MK_MAN| 13000|            - |       100|           20|      20|        100|\n",
            "|        202|       Pat|      Fay|    NULL|603.123.6666|17-Aug-05|    MK_REP|  6000|            - |       201|           20|      20|        201|\n",
            "|        203|     Susan|   Mavris| SMAVRIS|515.123.7777|     NULL|    HR_REP|  6500|            - |       101|           40|      40|        101|\n",
            "|        204|   Hermann|     Baer|   HBAER|515.123.8888|07-Jun-02|    PR_REP| 10000|            - |       101|           70|      70|        101|\n",
            "|        205|   Shelley|  Higgins|SHIGGINS|515.123.8080|07-Jun-02|      NULL| 12008|            - |       101|          110|     110|        101|\n",
            "|        206|   William|    Gietz|  WGIETZ|        NULL|07-Jun-02|AC_ACCOUNT|  8300|            - |       205|          110|     110|        205|\n",
            "|        100|    Steven|     King|   SKING|515.123.4567|17-Jun-03|   AD_PRES| 24000|            - |      NULL|           90|      90|         90|\n",
            "|        101|     Neena|  Kochhar|NKOCHHAR|515.123.4568|21-Sep-05|     AD_VP| 17000|            - |       100|           90|      90|        100|\n",
            "|        102|       Lex|  De Haan| LDEHAAN|515.123.4569|13-Jan-01|     AD_VP| 17000|            - |       100|           90|      90|        100|\n",
            "|        103| Alexander|   Hunold| AHUNOLD|590.423.4567|03-Jan-06|   IT_PROG|  9000|            - |       102|           60|      60|        102|\n",
            "|        104|     Bruce|    Ernst|  BERNST|590.423.4568|21-May-07|   IT_PROG|  6000|            - |       103|           60|      60|        103|\n",
            "|        105|     David|   Austin| DAUSTIN|590.423.4569|25-Jun-05|   IT_PROG|  4800|            - |       103|           60|      60|        103|\n",
            "|        106|     Valli|Pataballa|VPATABAL|590.423.4560|05-Feb-06|   IT_PROG|  4800|            - |       103|           60|      60|        103|\n",
            "|        107|     Diana|  Lorentz|DLORENTZ|590.423.5567|07-Feb-07|   IT_PROG|  4200|            - |       103|           60|      60|        103|\n",
            "|        108|     Nancy|Greenberg|NGREENBE|515.124.4569|17-Aug-02|    FI_MGR| 12008|            - |       101|          100|     100|        101|\n",
            "|        109|    Daniel|   Faviet| DFAVIET|515.124.4169|16-Aug-02|FI_ACCOUNT|  9000|            - |       108|          100|     100|        108|\n",
            "|        110|      John|     Chen|   JCHEN|515.124.4269|28-Sep-05|FI_ACCOUNT|  8200|            - |       108|          100|     100|        108|\n",
            "+-----------+----------+---------+--------+------------+---------+----------+------+--------------+----------+-------------+--------+-----------+\n",
            "only showing top 20 rows\n",
            "\n",
            "root\n",
            " |-- EMPLOYEE_ID: integer (nullable = true)\n",
            " |-- FIRST_NAME: string (nullable = true)\n",
            " |-- LAST_NAME: string (nullable = true)\n",
            " |-- EMAIL: string (nullable = true)\n",
            " |-- PHONE_NUMBER: string (nullable = true)\n",
            " |-- HIRE_DATE: string (nullable = true)\n",
            " |-- JOB_ID: string (nullable = true)\n",
            " |-- SALARY: integer (nullable = true)\n",
            " |-- COMMISSION_PCT: string (nullable = true)\n",
            " |-- MANAGER_ID: integer (nullable = true)\n",
            " |-- DEPARTMENT_ID: integer (nullable = true)\n",
            " |-- new_dept: integer (nullable = true)\n",
            " |-- new_manager: integer (nullable = true)\n",
            "\n"
          ]
        }
      ]
    }
  ]
}