{
  "nbformat": 4,
  "nbformat_minor": 0,
  "metadata": {
    "colab": {
      "provenance": [],
      "authorship_tag": "ABX9TyPF2NjlPV8b1/S77l+AwVNF",
      "include_colab_link": true
    },
    "kernelspec": {
      "name": "python3",
      "display_name": "Python 3"
    },
    "language_info": {
      "name": "python"
    }
  },
  "cells": [
    {
      "cell_type": "markdown",
      "metadata": {
        "id": "view-in-github",
        "colab_type": "text"
      },
      "source": [
        "<a href=\"https://colab.research.google.com/github/Anjanisinghthakur/Google-Colab/blob/main/Spark_SQL1.ipynb\" target=\"_parent\"><img src=\"https://colab.research.google.com/assets/colab-badge.svg\" alt=\"Open In Colab\"/></a>"
      ]
    },
    {
      "cell_type": "code",
      "execution_count": null,
      "metadata": {
        "id": "muFL3aBELP8Y"
      },
      "outputs": [],
      "source": [
        "pip install pyspark"
      ]
    },
    {
      "cell_type": "code",
      "source": [
        "from pyspark.sql import SparkSession\n",
        "from pyspark.sql.functions import *\n",
        "\n",
        "spark=SparkSession.builder.appName(\"Temporary & Global Temp views\").master(\"local[*]\").getOrCreate()\n",
        "data=[('Alice', 30),('Bob', 90)]\n",
        "df=spark.createDataFrame(data,[\"name\",\"age\"])\n",
        "\n",
        "#Create Tempview\n",
        "df.createOrReplaceTempView(\"people_temp\")\n",
        "spark.sql(\"select * from people_temp where age>50\").show()"
      ],
      "metadata": {
        "id": "rcjuNIz9LfK2"
      },
      "execution_count": null,
      "outputs": []
    },
    {
      "cell_type": "code",
      "source": [
        "# global temp view, these are stored in special db global_temp\n",
        "df.createOrReplaceGlobalTempView(\"people_global_temp\")\n",
        "spark.sql(\"select * from global_temp.people_global_temp where age>50\").show()"
      ],
      "metadata": {
        "id": "I_pZI2PhMWJL"
      },
      "execution_count": null,
      "outputs": []
    },
    {
      "cell_type": "code",
      "source": [
        "#List all tables in global_temp db\n",
        "spark.catalog.listTables(\"global_temp\")\n",
        "spark.sql(\"SHOW TABLES IN global_temp\").show()\n"
      ],
      "metadata": {
        "id": "VKlSiumdHaup"
      },
      "execution_count": null,
      "outputs": []
    }
  ]
}