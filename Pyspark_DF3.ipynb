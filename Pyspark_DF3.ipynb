{
  "nbformat": 4,
  "nbformat_minor": 0,
  "metadata": {
    "colab": {
      "provenance": [],
      "authorship_tag": "ABX9TyOB9jFu+eFbmcgMy5lXD+M/",
      "include_colab_link": true
    },
    "kernelspec": {
      "name": "python3",
      "display_name": "Python 3"
    },
    "language_info": {
      "name": "python"
    }
  },
  "cells": [
    {
      "cell_type": "markdown",
      "metadata": {
        "id": "view-in-github",
        "colab_type": "text"
      },
      "source": [
        "<a href=\"https://colab.research.google.com/github/Anjanisinghthakur/Google-Colab/blob/main/Pyspark_DF3.ipynb\" target=\"_parent\"><img src=\"https://colab.research.google.com/assets/colab-badge.svg\" alt=\"Open In Colab\"/></a>"
      ]
    },
    {
      "cell_type": "code",
      "execution_count": 1,
      "metadata": {
        "colab": {
          "base_uri": "https://localhost:8080/"
        },
        "id": "AJ0jlU4qpAHm",
        "outputId": "d0db5178-5fcd-4335-9893-dcd117c444aa"
      },
      "outputs": [
        {
          "output_type": "stream",
          "name": "stdout",
          "text": [
            "Requirement already satisfied: pyspark in /usr/local/lib/python3.11/dist-packages (3.5.5)\n",
            "Requirement already satisfied: py4j==0.10.9.7 in /usr/local/lib/python3.11/dist-packages (from pyspark) (0.10.9.7)\n"
          ]
        }
      ],
      "source": [
        "!pip install pyspark"
      ]
    },
    {
      "cell_type": "code",
      "source": [
        "from pyspark.sql import SparkSession\n",
        "from pyspark.sql.types import StructType, StructField, StringType, IntegerType\n",
        "from pyspark.sql.functions import row_number, desc, rank, dense_rank, lead, lag, sum\n",
        "from pyspark.sql.window import Window\n",
        "\n",
        "spark=SparkSession.builder.appName(\"Myapp\").master(\"local[*]\").getOrCreate()\n",
        "employees = [\n",
        "    [\"John Doe\", 30, \"Software Engineer\", 60000],\n",
        "    [\"Jane Smith\", 28, \"Software Engineer\", 55000],\n",
        "    [\"Mike baby\", 35, \"Data Analyst\", 70000],\n",
        "    [\"Harry Potter\", 38, \"Data Analyst\", 55000],\n",
        "    [\"joe goe\", 25, \"Project Manager\", 65000],\n",
        "    [\"cue be\", 45, \"\", 75000],\n",
        "    [\"pagal\", 30, \"CEO\", 95000],\n",
        "    [\"lallu\", 50, \"CTO\", 105000]\n",
        "]\n",
        "\n",
        "employee_schema = StructType([\n",
        "    StructField(\"Name\", StringType(), True),\n",
        "    StructField(\"Age\", IntegerType(), True),\n",
        "    StructField(\"Position\", StringType(), True),\n",
        "    StructField(\"Salary\", IntegerType(), True)\n",
        "])\n",
        "df=spark.createDataFrame(employees,schema=employee_schema)\n",
        "data = [\n",
        "    [\"USA\", \"Laptop\", 100],\n",
        "    [\"USA\", \"Mobile\", 200],\n",
        "    [\"India\", \"Laptop\", 150],\n",
        "    [\"India\", \"Mobile\", 300],\n",
        "    [\"India\", \"Tablet\", 50],\n",
        "]\n",
        "sch=\"Country string, Product string, Amount integer\"\n",
        "new_df=spark.createDataFrame(data, [\"country\", \"product\", \"amount\"])\n",
        "new_df.show()\n",
        "pivot_df=new_df.groupBy(\"product\").pivot(\"country\").sum(\"amount\")\n",
        "pivot_df.show()\n",
        "window=Window.orderBy((df.Salary))\n",
        "df1=df.withColumn(\"rn\",lead(df.Salary).over(window))\n",
        "df1.show()\n",
        "\n",
        "\n",
        "\n"
      ],
      "metadata": {
        "colab": {
          "base_uri": "https://localhost:8080/"
        },
        "id": "oe8_mHN2pKNO",
        "outputId": "5884bf0d-7347-4100-f710-64e208abb9f9"
      },
      "execution_count": 33,
      "outputs": [
        {
          "output_type": "stream",
          "name": "stdout",
          "text": [
            "+-------+-------+------+\n",
            "|country|product|amount|\n",
            "+-------+-------+------+\n",
            "|    USA| Laptop|   100|\n",
            "|    USA| Mobile|   200|\n",
            "|  India| Laptop|   150|\n",
            "|  India| Mobile|   300|\n",
            "|  India| Tablet|    50|\n",
            "+-------+-------+------+\n",
            "\n",
            "+-------+-----+----+\n",
            "|product|India| USA|\n",
            "+-------+-----+----+\n",
            "| Laptop|  150| 100|\n",
            "| Mobile|  300| 200|\n",
            "| Tablet|   50|NULL|\n",
            "+-------+-----+----+\n",
            "\n",
            "+------------+---+-----------------+------+------+\n",
            "|        Name|Age|         Position|Salary|    rn|\n",
            "+------------+---+-----------------+------+------+\n",
            "|  Jane Smith| 28|Software Engineer| 55000| 55000|\n",
            "|Harry Potter| 38|     Data Analyst| 55000| 60000|\n",
            "|    John Doe| 30|Software Engineer| 60000| 65000|\n",
            "|     joe goe| 25|  Project Manager| 65000| 70000|\n",
            "|   Mike baby| 35|     Data Analyst| 70000| 75000|\n",
            "|      cue be| 45|                 | 75000| 95000|\n",
            "|       pagal| 30|              CEO| 95000|105000|\n",
            "|       lallu| 50|              CTO|105000|  NULL|\n",
            "+------------+---+-----------------+------+------+\n",
            "\n"
          ]
        }
      ]
    }
  ]
}