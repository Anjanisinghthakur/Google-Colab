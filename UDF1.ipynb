{
  "nbformat": 4,
  "nbformat_minor": 0,
  "metadata": {
    "colab": {
      "provenance": [],
      "authorship_tag": "ABX9TyOe/wunl7hrLP5Z/nx80Zqg",
      "include_colab_link": true
    },
    "kernelspec": {
      "name": "python3",
      "display_name": "Python 3"
    },
    "language_info": {
      "name": "python"
    }
  },
  "cells": [
    {
      "cell_type": "markdown",
      "metadata": {
        "id": "view-in-github",
        "colab_type": "text"
      },
      "source": [
        "<a href=\"https://colab.research.google.com/github/Anjanisinghthakur/Google-Colab/blob/main/UDF1.ipynb\" target=\"_parent\"><img src=\"https://colab.research.google.com/assets/colab-badge.svg\" alt=\"Open In Colab\"/></a>"
      ]
    },
    {
      "cell_type": "code",
      "execution_count": 3,
      "metadata": {
        "colab": {
          "base_uri": "https://localhost:8080/"
        },
        "id": "uurWibjON7ah",
        "outputId": "00b5cff7-30b5-418a-e63f-f75a1f4cc26b"
      },
      "outputs": [
        {
          "output_type": "stream",
          "name": "stdout",
          "text": [
            "+---+------+--------+\n",
            "| id|  name|rev_name|\n",
            "+---+------+--------+\n",
            "|  1|Anjani|  inajnA|\n",
            "|  2| gappu|   uppag|\n",
            "+---+------+--------+\n",
            "\n"
          ]
        }
      ],
      "source": [
        "from pyspark.sql import SparkSession\n",
        "from pyspark.sql.functions import udf\n",
        "\n",
        "spark=SparkSession.builder.appName(\"UDF's\").master(\"local[*]\").getOrCreate()\n",
        "\n",
        "data=[(1,'Anjani'),(2,'gappu')]\n",
        "df=spark.createDataFrame(data=data,schema=['id','name'])\n",
        "\n",
        "#create User defined function\n",
        "@udf(returnType=StringType())\n",
        "def rev_string(name):\n",
        "  return name[::-1]\n",
        "\n",
        "# pass values to udf\n",
        "res=df.withColumn('rev_name',rev_string(df.name))\n",
        "res.show()"
      ]
    }
  ]
}