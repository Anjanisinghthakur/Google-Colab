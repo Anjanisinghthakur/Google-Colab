{
  "nbformat": 4,
  "nbformat_minor": 0,
  "metadata": {
    "colab": {
      "provenance": [],
      "authorship_tag": "ABX9TyN1e/xcowItSp3N7kfvqEZH",
      "include_colab_link": true
    },
    "kernelspec": {
      "name": "python3",
      "display_name": "Python 3"
    },
    "language_info": {
      "name": "python"
    }
  },
  "cells": [
    {
      "cell_type": "markdown",
      "metadata": {
        "id": "view-in-github",
        "colab_type": "text"
      },
      "source": [
        "<a href=\"https://colab.research.google.com/github/Anjanisinghthakur/Google-Colab/blob/main/UDF1.ipynb\" target=\"_parent\"><img src=\"https://colab.research.google.com/assets/colab-badge.svg\" alt=\"Open In Colab\"/></a>"
      ]
    },
    {
      "cell_type": "code",
      "execution_count": 3,
      "metadata": {
        "colab": {
          "base_uri": "https://localhost:8080/"
        },
        "id": "uurWibjON7ah",
        "outputId": "f3aad3f9-9ea1-4018-c558-6d9473c85c30"
      },
      "outputs": [
        {
          "output_type": "stream",
          "name": "stdout",
          "text": [
            "+---+------+--------+\n",
            "| id|  name|rev_name|\n",
            "+---+------+--------+\n",
            "|  1|Anjani|  inajnA|\n",
            "|  2| gappu|   uppag|\n",
            "+---+------+--------+\n",
            "\n"
          ]
        }
      ],
      "source": [
        "from pyspark.sql import SparkSession\n",
        "from pyspark.sql.functions import udf\n",
        "from pyspark.sql.types import StringType,IntegerType\n",
        "\n",
        "\n",
        "spark=SparkSession.builder.appName(\"UDF's\").master(\"local[*]\").getOrCreate()\n",
        "\n",
        "data=[(1,'Anjani'),(2,'gappu')]\n",
        "df=spark.createDataFrame(data=data,schema=['id','name'])\n",
        "\n",
        "#create User defined function\n",
        "@udf(returnType=StringType())\n",
        "def rev_string(name):\n",
        "  return name[::-1]\n",
        "\n",
        "# pass values to udf\n",
        "res=df.withColumn('rev_name',rev_string(df.name))\n",
        "res.show()"
      ]
    },
    {
      "cell_type": "code",
      "source": [
        "data=[(3,2),(1,4),(6,8)]\n",
        "df2=spark.createDataFrame(data=data,schema=['a','b'])\n",
        "\n",
        "@udf(returnType=IntegerType())\n",
        "def factorial(b):\n",
        "  res=1\n",
        "  for i in range(1,b+1):\n",
        "    res=res*i\n",
        "  return res\n",
        "\n",
        "df3=df2.withColumn('fact',factorial(df2.b))\n",
        "df3.show()\n"
      ],
      "metadata": {
        "colab": {
          "base_uri": "https://localhost:8080/"
        },
        "id": "EoAdRl_LELWj",
        "outputId": "b59c25db-f575-4d06-ae88-ea12451ca79d"
      },
      "execution_count": 12,
      "outputs": [
        {
          "output_type": "stream",
          "name": "stdout",
          "text": [
            "+---+---+-----+\n",
            "|  a|  b| fact|\n",
            "+---+---+-----+\n",
            "|  3|  2|    2|\n",
            "|  1|  4|   24|\n",
            "|  6|  8|40320|\n",
            "+---+---+-----+\n",
            "\n"
          ]
        }
      ]
    }
  ]
}