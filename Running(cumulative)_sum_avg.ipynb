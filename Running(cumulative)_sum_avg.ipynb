{
  "nbformat": 4,
  "nbformat_minor": 0,
  "metadata": {
    "colab": {
      "provenance": [],
      "authorship_tag": "ABX9TyMIhsKYAqwGQKEJW6JFs9fa",
      "include_colab_link": true
    },
    "kernelspec": {
      "name": "python3",
      "display_name": "Python 3"
    },
    "language_info": {
      "name": "python"
    }
  },
  "cells": [
    {
      "cell_type": "markdown",
      "metadata": {
        "id": "view-in-github",
        "colab_type": "text"
      },
      "source": [
        "<a href=\"https://colab.research.google.com/github/Anjanisinghthakur/Google-Colab/blob/main/Running(cumulative)_sum_avg.ipynb\" target=\"_parent\"><img src=\"https://colab.research.google.com/assets/colab-badge.svg\" alt=\"Open In Colab\"/></a>"
      ]
    },
    {
      "cell_type": "code",
      "execution_count": 3,
      "metadata": {
        "colab": {
          "base_uri": "https://localhost:8080/"
        },
        "id": "mS9hxks13n0H",
        "outputId": "a3c3f9a8-2802-4421-ad6a-a7ef8894b2c1"
      },
      "outputs": [
        {
          "output_type": "stream",
          "name": "stdout",
          "text": [
            "+----+------+--------------+\n",
            "|Year|Profit|Running_Profit|\n",
            "+----+------+--------------+\n",
            "|2019| 30000|         90000|\n",
            "|2020| 20000|         95000|\n",
            "|2021| 40000|         85000|\n",
            "|2022| 35000|         85000|\n",
            "|2023| 10000|         50000|\n",
            "|2024| 40000|         40000|\n",
            "+----+------+--------------+\n",
            "\n",
            "+----+------+--------------+\n",
            "|Year|Profit|Running_Profit|\n",
            "+----+------+--------------+\n",
            "|2019| 30000|         30000|\n",
            "|2020| 20000|         50000|\n",
            "|2021| 40000|         90000|\n",
            "|2022| 35000|        125000|\n",
            "|2023| 10000|        135000|\n",
            "|2024| 40000|        175000|\n",
            "+----+------+--------------+\n",
            "\n",
            "+----+------+------------------+\n",
            "|Year|Profit|    Running_Profit|\n",
            "+----+------+------------------+\n",
            "|2019| 30000|           30000.0|\n",
            "|2020| 20000|           25000.0|\n",
            "|2021| 40000|           30000.0|\n",
            "|2022| 35000|           31250.0|\n",
            "|2023| 10000|           27000.0|\n",
            "|2024| 40000|29166.666666666668|\n",
            "+----+------+------------------+\n",
            "\n"
          ]
        }
      ],
      "source": [
        "from pyspark.sql import SparkSession\n",
        "from pyspark.sql.types import StructType, StructField, StringType, IntegerType\n",
        "from pyspark.sql.functions import *\n",
        "from pyspark.sql.window import Window\n",
        "\n",
        "spark = SparkSession.builder.appName(\"Cumulative/Running Sum/Avg\").getOrCreate()\n",
        "\n",
        "data=[\n",
        "    [2019, 30000],\n",
        "    [2020, 20000],\n",
        "    [2021, 40000],\n",
        "    [2022, 35000],\n",
        "    [2023, 10000],\n",
        "    [2024, 40000]\n",
        "\n",
        "]\n",
        "schema=StructType([\n",
        "    StructField(\"Year\",IntegerType(),True),\n",
        "    StructField(\"Profit\",IntegerType(), True)\n",
        "])\n",
        "df=spark.createDataFrame(data, schema=schema)\n",
        "# specify Window.unboundedPreceding, Window.currentRow: means preceding row +current row value\n",
        "spec=Window.orderBy(col(\"Year\")).rowsBetween(Window.unboundedPreceding, Window.currentRow)\n",
        "# specify 0 and 2 : means 0+1+2 values\n",
        "spec2=Window.orderBy(col(\"Year\")).rowsBetween(0,2)\n",
        "cumsum=df.withColumn('Running_Profit',sum(df.Profit).over(spec))\n",
        "cumsum2=df.withColumn('Running_Profit',sum(df.Profit).over(spec2))\n",
        "cumavg=df.withColumn('Running_Profit',avg(df.Profit).over(spec))\n",
        "cumsum2.show()\n",
        "cumsum.show()\n",
        "cumavg.show()"
      ]
    }
  ]
}