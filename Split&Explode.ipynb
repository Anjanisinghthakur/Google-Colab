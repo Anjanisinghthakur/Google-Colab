{
  "nbformat": 4,
  "nbformat_minor": 0,
  "metadata": {
    "colab": {
      "provenance": [],
      "authorship_tag": "ABX9TyMUsbWpOsCB+piSiajI73wI",
      "include_colab_link": true
    },
    "kernelspec": {
      "name": "python3",
      "display_name": "Python 3"
    },
    "language_info": {
      "name": "python"
    }
  },
  "cells": [
    {
      "cell_type": "markdown",
      "metadata": {
        "id": "view-in-github",
        "colab_type": "text"
      },
      "source": [
        "<a href=\"https://colab.research.google.com/github/Anjanisinghthakur/Google-Colab/blob/main/Split%26Explode.ipynb\" target=\"_parent\"><img src=\"https://colab.research.google.com/assets/colab-badge.svg\" alt=\"Open In Colab\"/></a>"
      ]
    },
    {
      "cell_type": "code",
      "source": [
        "from pyspark.sql import SparkSession\n",
        "from pyspark.sql.functions import *\n",
        "from pyspark.sql.window import Window\n",
        "from pyspark.sql.types import *\n",
        "\n",
        "spark=SparkSession.builder.appName('Split&Explode').master('local[*]').getOrCreate()\n",
        "\n",
        "data=[\n",
        "    [1,'Happy Feet'],\n",
        "    [2,'First men'],\n",
        "    [3,'cute puppy'],\n",
        "    [4,'baby hugs'],\n",
        "    [5,'baby bunny Feet']\n",
        "]\n",
        "schema=StructType([\n",
        "      StructField(\"Id\", IntegerType(), True),\n",
        "      StructField(\"defi\", StringType(), True)\n",
        "])\n",
        "df=spark.createDataFrame(data, schema=schema)\n",
        "df=df.withColumn('new', explode(split(df.defi,' ')))\n",
        "df.show()"
      ],
      "metadata": {
        "colab": {
          "base_uri": "https://localhost:8080/"
        },
        "id": "s_bVMCsDtjPp",
        "outputId": "68f42324-80b1-4edf-c98f-91b06abd5844"
      },
      "execution_count": 8,
      "outputs": [
        {
          "output_type": "stream",
          "name": "stdout",
          "text": [
            "+---+---------------+-----+\n",
            "| Id|           defi|  new|\n",
            "+---+---------------+-----+\n",
            "|  1|     Happy Feet|Happy|\n",
            "|  1|     Happy Feet| Feet|\n",
            "|  2|      First men|First|\n",
            "|  2|      First men|  men|\n",
            "|  3|     cute puppy| cute|\n",
            "|  3|     cute puppy|puppy|\n",
            "|  4|      baby hugs| baby|\n",
            "|  4|      baby hugs| hugs|\n",
            "|  5|baby bunny Feet| baby|\n",
            "|  5|baby bunny Feet|bunny|\n",
            "|  5|baby bunny Feet| Feet|\n",
            "+---+---------------+-----+\n",
            "\n"
          ]
        }
      ]
    }
  ]
}