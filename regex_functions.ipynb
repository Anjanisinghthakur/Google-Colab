{
  "nbformat": 4,
  "nbformat_minor": 0,
  "metadata": {
    "colab": {
      "provenance": [],
      "authorship_tag": "ABX9TyNhTW8ignZMQhLmKi6ickVy",
      "include_colab_link": true
    },
    "kernelspec": {
      "name": "python3",
      "display_name": "Python 3"
    },
    "language_info": {
      "name": "python"
    }
  },
  "cells": [
    {
      "cell_type": "markdown",
      "metadata": {
        "id": "view-in-github",
        "colab_type": "text"
      },
      "source": [
        "<a href=\"https://colab.research.google.com/github/Anjanisinghthakur/Google-Colab/blob/main/regex_functions.ipynb\" target=\"_parent\"><img src=\"https://colab.research.google.com/assets/colab-badge.svg\" alt=\"Open In Colab\"/></a>"
      ]
    },
    {
      "cell_type": "code",
      "execution_count": 14,
      "metadata": {
        "colab": {
          "base_uri": "https://localhost:8080/"
        },
        "id": "JXEDltYD2BxH",
        "outputId": "1e2fb505-952e-4b3e-9499-eb3acfd8f81f"
      },
      "outputs": [
        {
          "output_type": "stream",
          "name": "stdout",
          "text": [
            "+--------+----+-----------+\n",
            "|    name| sal|refined_nam|\n",
            "+--------+----+-----------+\n",
            "|Anbjan&)|4000|     Anbjan|\n",
            "|fatima@#|8000|     fatima|\n",
            "+--------+----+-----------+\n",
            "\n"
          ]
        }
      ],
      "source": [
        "from pyspark.sql import SparkSession\n",
        "from pyspark.sql.functions import *\n",
        "from pyspark.sql.types import *\n",
        "spark=SparkSession.builder.appName('Regex_Pattern Matching').master(\"local[*]\").getOrCreate()\n",
        "data=[\n",
        "   [ \"Anbjan&)\", 4000],\n",
        "    [\"fatima@#\",8000]\n",
        "]\n",
        "sch = StructType([\n",
        "    StructField(\"name\", StringType(), True),\n",
        "    StructField(\"sal\", IntegerType(), True)\n",
        "])\n",
        "\n",
        "df=spark.createDataFrame(data, schema=sch)\n",
        "# a-z(small), A-Z(captal),^-not operation,/s is space & \"\" is replacement char, /d is digit\n",
        "df=df.withColumn('refined_nam', regexp_replace(df.name,r\"[^a-zA-Z/s]\",\"\"))\n",
        "df.show()"
      ]
    }
  ]
}