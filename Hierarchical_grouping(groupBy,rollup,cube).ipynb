{
  "nbformat": 4,
  "nbformat_minor": 0,
  "metadata": {
    "colab": {
      "provenance": [],
      "authorship_tag": "ABX9TyN55cB3sXaIaytXc5/DuvEz",
      "include_colab_link": true
    },
    "kernelspec": {
      "name": "python3",
      "display_name": "Python 3"
    },
    "language_info": {
      "name": "python"
    }
  },
  "cells": [
    {
      "cell_type": "markdown",
      "metadata": {
        "id": "view-in-github",
        "colab_type": "text"
      },
      "source": [
        "<a href=\"https://colab.research.google.com/github/Anjanisinghthakur/Google-Colab/blob/main/Hierarchical_grouping(groupBy%2Crollup%2Ccube).ipynb\" target=\"_parent\"><img src=\"https://colab.research.google.com/assets/colab-badge.svg\" alt=\"Open In Colab\"/></a>"
      ]
    },
    {
      "cell_type": "code",
      "execution_count": 13,
      "metadata": {
        "colab": {
          "base_uri": "https://localhost:8080/"
        },
        "id": "9Fqakjzx65aE",
        "outputId": "0e49bb42-bea7-4c40-ff50-0105a45a4bbf"
      },
      "outputs": [
        {
          "output_type": "stream",
          "name": "stdout",
          "text": [
            "+---------+-------+----------+\n",
            "|Continent|Country|sum_profit|\n",
            "+---------+-------+----------+\n",
            "|   Africe|  Kenya|      1000|\n",
            "|     Asia|  China|      1000|\n",
            "|     Asia|  Korea|      2000|\n",
            "|     Asia|  India|      4000|\n",
            "|   Europe| France|      1000|\n",
            "|   Europe|  Italy|      2000|\n",
            "|   Europe|Germany|      2500|\n",
            "+---------+-------+----------+\n",
            "\n",
            "+---------+-------+----------+\n",
            "|Continent|Country|sum_profit|\n",
            "+---------+-------+----------+\n",
            "|     NULL|   NULL|     13500|\n",
            "|   Africe|  Kenya|      1000|\n",
            "|   Africe|   NULL|      1000|\n",
            "|     Asia|  China|      1000|\n",
            "|     Asia|  Korea|      2000|\n",
            "|     Asia|  India|      4000|\n",
            "|     Asia|   NULL|      7000|\n",
            "|   Europe| France|      1000|\n",
            "|   Europe|  Italy|      2000|\n",
            "|   Europe|Germany|      2500|\n",
            "|   Europe|   NULL|      5500|\n",
            "+---------+-------+----------+\n",
            "\n",
            "+---------+-------+----------+\n",
            "|Continent|Country|sum_profit|\n",
            "+---------+-------+----------+\n",
            "|     NULL| France|      1000|\n",
            "|     NULL|  Kenya|      1000|\n",
            "|     NULL|  China|      1000|\n",
            "|     NULL|  Italy|      2000|\n",
            "|     NULL|  Korea|      2000|\n",
            "|     NULL|Germany|      2500|\n",
            "|     NULL|  India|      4000|\n",
            "|     NULL|   NULL|     13500|\n",
            "|   Africe|  Kenya|      1000|\n",
            "|   Africe|   NULL|      1000|\n",
            "|     Asia|  China|      1000|\n",
            "|     Asia|  Korea|      2000|\n",
            "|     Asia|  India|      4000|\n",
            "|     Asia|   NULL|      7000|\n",
            "|   Europe| France|      1000|\n",
            "|   Europe|  Italy|      2000|\n",
            "|   Europe|Germany|      2500|\n",
            "|   Europe|   NULL|      5500|\n",
            "+---------+-------+----------+\n",
            "\n"
          ]
        }
      ],
      "source": [
        "from pyspark.sql import SparkSession\n",
        "from pyspark.sql.types import StructType, StructField, StringType, IntegerType\n",
        "from pyspark.sql.functions import *\n",
        "from pyspark.sql.window import Window\n",
        "\n",
        "spark = SparkSession.builder.appName(\"groupBy,rollup,cube(Totals,Subtotals, Grandtotals)\").getOrCreate()\n",
        "data=[\n",
        "    [\"Europe\", \"France\", 1000],\n",
        "    [\"Europe\", \"Italy\", 2000],\n",
        "    [\"Europe\", \"Germany\", 2500],\n",
        "    [\"Asia\",\"India\",4000],\n",
        "    [\"Asia\",\"China\",1000],\n",
        "    [\"Asia\",\"Korea\",2000],\n",
        "    [\"Africe\",\"Kenya\",1000]\n",
        "]\n",
        "schema=StructType([\n",
        "    StructField(\"Continent\",StringType(),True),\n",
        "    StructField(\"Country\",StringType(),True),\n",
        "    StructField(\"Profit\",IntegerType(),True),\n",
        "\n",
        "])\n",
        "df=spark.createDataFrame(data,schema=schema)\n",
        "\n",
        "res1=df.groupBy(df.Continent,df.Country).agg(sum(df.Profit).alias(\"sum_profit\"))\n",
        "res1=res1.orderBy(res1.Continent,res1.sum_profit)\n",
        "\n",
        "res2=df.rollup(df.Continent,df.Country).agg(sum(df.Profit).alias(\"sum_profit\"))\n",
        "res2=res2.orderBy(res2.Continent,res2.sum_profit)\n",
        "\n",
        "res3=df.cube(df.Continent,df.Country).agg(sum(df.Profit).alias(\"sum_profit\"))\n",
        "res3=res3.orderBy(res3.Continent,res3.sum_profit)\n",
        "\n",
        "res1.show()\n",
        "res2.show()\n",
        "res3.show()"
      ]
    }
  ]
}