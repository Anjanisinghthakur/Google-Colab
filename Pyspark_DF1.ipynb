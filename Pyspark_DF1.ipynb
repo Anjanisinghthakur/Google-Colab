{
  "cells": [
    {
      "cell_type": "markdown",
      "metadata": {
        "id": "view-in-github",
        "colab_type": "text"
      },
      "source": [
        "<a href=\"https://colab.research.google.com/github/Anjanisinghthakur/Google-Colab/blob/main/Pyspark_DF1.ipynb\" target=\"_parent\"><img src=\"https://colab.research.google.com/assets/colab-badge.svg\" alt=\"Open In Colab\"/></a>"
      ]
    },
    {
      "cell_type": "code",
      "execution_count": null,
      "metadata": {
        "colab": {
          "base_uri": "https://localhost:8080/",
          "height": 36
        },
        "id": "8FZLYUABaSWj",
        "outputId": "8a7ab41c-f330-453c-ad3c-e5334733f91e"
      },
      "outputs": [
        {
          "output_type": "execute_result",
          "data": {
            "text/plain": [
              "'/content'"
            ],
            "application/vnd.google.colaboratory.intrinsic+json": {
              "type": "string"
            }
          },
          "metadata": {},
          "execution_count": 49
        }
      ],
      "source": [
        "pwd"
      ]
    },
    {
      "cell_type": "code",
      "source": [
        "pip install pyspark"
      ],
      "metadata": {
        "colab": {
          "base_uri": "https://localhost:8080/"
        },
        "id": "D8zPglEexTbu",
        "outputId": "45ac7bc0-eae6-48d3-9f4a-80fb5f542f0b"
      },
      "execution_count": null,
      "outputs": [
        {
          "output_type": "stream",
          "name": "stdout",
          "text": [
            "Requirement already satisfied: pyspark in /usr/local/lib/python3.11/dist-packages (3.5.4)\n",
            "Requirement already satisfied: py4j==0.10.9.7 in /usr/local/lib/python3.11/dist-packages (from pyspark) (0.10.9.7)\n"
          ]
        }
      ]
    },
    {
      "cell_type": "code",
      "source": [
        "#if else\n",
        "from pyspark.sql import SparkSession\n",
        "from pyspark.sql.types import StructType, StructField, StringType, IntegerType\n",
        "from pyspark.sql.functions import when, spark_partition_id, broadcast\n",
        "\n",
        "spark = SparkSession.builder.appName(\"repartitioning+Joins+cascading_droadcast join\").getOrCreate()\n",
        "employees = [\n",
        "    [\"John Doe\", 30, \"Software Engineer\", 60000],\n",
        "    [\"Jane Smith\", 28, \"Software Engineer\", 55000],\n",
        "    [\"Mike baby\", 35, \"Data Analyst\", 75000],\n",
        "    [\"Harry Potter\", 38, \"Data Analyst\", 75000],\n",
        "    [\"joe goe\", 25, \"Project Manager\", 75000],\n",
        "    [\"cue be\", 45, \"\", 75000]\n",
        "]\n",
        "\n",
        "employee_schema = StructType([\n",
        "    StructField(\"Name\", StringType(), True),\n",
        "    StructField(\"Age\", IntegerType(), True),\n",
        "    StructField(\"Position\", StringType(), True),\n",
        "    StructField(\"Salary\", IntegerType(), True)\n",
        "])\n",
        "df=spark.createDataFrame(employees,schema=employee_schema)\n",
        "df2=df.withColumn(\"Pos\", when(df.Position==\"\",\"None\").otherwise(df.Position))\n",
        "df.fillna(0)\n"
      ],
      "metadata": {
        "colab": {
          "base_uri": "https://localhost:8080/"
        },
        "id": "fUQk6xjexfak",
        "outputId": "4a8e46b0-f0d1-4834-edad-1a29b5e28402"
      },
      "execution_count": null,
      "outputs": [
        {
          "output_type": "execute_result",
          "data": {
            "text/plain": [
              "DataFrame[Name: string, Age: int, Position: string, Salary: int]"
            ]
          },
          "metadata": {},
          "execution_count": 18
        }
      ]
    },
    {
      "cell_type": "code",
      "source": [
        "# repartitioning + coalesce +spark_partition_id\n",
        "df=df.repartition(4,df.Position)\n",
        "df=df.coalesce(2)\n",
        "df.rdd.getNumPartitions()\n",
        "emp1=df.repartition(4,df.Position).withColumn(\"Partitionnum\",spark_partition_id())\n",
        "emp1.show()"
      ],
      "metadata": {
        "colab": {
          "base_uri": "https://localhost:8080/"
        },
        "id": "16fBfx3S0fl9",
        "outputId": "c8378a77-1502-4087-d29b-f9fab3160dc7"
      },
      "execution_count": null,
      "outputs": [
        {
          "output_type": "stream",
          "name": "stdout",
          "text": [
            "+------------+---+-----------------+------+------------+\n",
            "|        Name|Age|         Position|Salary|Partitionnum|\n",
            "+------------+---+-----------------+------+------------+\n",
            "|   Mike baby| 35|     Data Analyst| 75000|           0|\n",
            "|Harry Potter| 38|     Data Analyst| 75000|           0|\n",
            "|     joe goe| 25|  Project Manager| 75000|           0|\n",
            "|      cue be| 45|                 | 75000|           0|\n",
            "|    John Doe| 30|Software Engineer| 60000|           2|\n",
            "|  Jane Smith| 28|Software Engineer| 55000|           2|\n",
            "+------------+---+-----------------+------+------------+\n",
            "\n"
          ]
        }
      ]
    },
    {
      "cell_type": "code",
      "source": [
        "\n",
        "#Joins + cascading(extra conditions) joins\n",
        "#for and condition use & and for or condition use |\n",
        "\n",
        "emp_list = [\n",
        "    [101, \"Alice\", 1],\n",
        "    [102, \"Bob\", 2],\n",
        "    [103, \"Charlie\", 1],\n",
        "    [104, \"David\", 3],\n",
        "    [105, \"Happy\", 4],\n",
        "    [106, \"Cute\", 5],\n",
        "    [108, \"Love\", 2],\n",
        "    [109, \"Kiki\", 2],\n",
        "    [110, \"Doe\", 2],\n",
        "\n",
        "\n",
        "]\n",
        "\n",
        "dept_list = [\n",
        "    [1, \"HR\"],\n",
        "    [2, \"Finance\"],\n",
        "    [3, \"Marketing\"],\n",
        "    [4, \"IT\"]\n",
        "]\n",
        "emp_schema = \"emp_id int, name string, dept_id int\"\n",
        "dept_schema = \"dept_id int, dept_name string\"\n",
        "\n",
        "emp=spark.createDataFrame(emp_list,schema=emp_schema)\n",
        "dept=spark.createDataFrame(dept_list,schema=dept_schema)\n",
        "emp.show()\n",
        "dept.show()\n",
        "joined=emp.join(broadcast(dept),how=\"inner\",on=(emp.dept_id==dept.dept_id) & ((emp.dept_id==1) | (emp.dept_id==2))\n",
        "& (emp.name!=\"\")\n",
        "                )\n",
        "\n",
        "join1=emp.join(dept, how=\"cross\")\n",
        "join1.show()\n",
        "joined.select(emp.name,dept.dept_id,dept.dept_name).show()\n",
        "joined.explain()"
      ],
      "metadata": {
        "colab": {
          "base_uri": "https://localhost:8080/"
        },
        "id": "iZ_QmDf__sZ8",
        "outputId": "558bdc48-41ee-484c-a104-e45526d77d5d"
      },
      "execution_count": null,
      "outputs": [
        {
          "output_type": "stream",
          "name": "stdout",
          "text": [
            "+------+-------+-------+\n",
            "|emp_id|   name|dept_id|\n",
            "+------+-------+-------+\n",
            "|   101|  Alice|      1|\n",
            "|   102|    Bob|      2|\n",
            "|   103|Charlie|      1|\n",
            "|   104|  David|      3|\n",
            "|   105|  Happy|      4|\n",
            "|   106|   Cute|      5|\n",
            "|   108|   Love|      2|\n",
            "|   109|   Kiki|      2|\n",
            "|   110|    Doe|      2|\n",
            "+------+-------+-------+\n",
            "\n",
            "+-------+---------+\n",
            "|dept_id|dept_name|\n",
            "+-------+---------+\n",
            "|      1|       HR|\n",
            "|      2|  Finance|\n",
            "|      3|Marketing|\n",
            "|      4|       IT|\n",
            "+-------+---------+\n",
            "\n",
            "+------+-------+-------+-------+---------+\n",
            "|emp_id|   name|dept_id|dept_id|dept_name|\n",
            "+------+-------+-------+-------+---------+\n",
            "|   101|  Alice|      1|      1|       HR|\n",
            "|   101|  Alice|      1|      2|  Finance|\n",
            "|   102|    Bob|      2|      1|       HR|\n",
            "|   102|    Bob|      2|      2|  Finance|\n",
            "|   103|Charlie|      1|      1|       HR|\n",
            "|   103|Charlie|      1|      2|  Finance|\n",
            "|   104|  David|      3|      1|       HR|\n",
            "|   104|  David|      3|      2|  Finance|\n",
            "|   101|  Alice|      1|      3|Marketing|\n",
            "|   101|  Alice|      1|      4|       IT|\n",
            "|   102|    Bob|      2|      3|Marketing|\n",
            "|   102|    Bob|      2|      4|       IT|\n",
            "|   103|Charlie|      1|      3|Marketing|\n",
            "|   103|Charlie|      1|      4|       IT|\n",
            "|   104|  David|      3|      3|Marketing|\n",
            "|   104|  David|      3|      4|       IT|\n",
            "|   105|  Happy|      4|      1|       HR|\n",
            "|   105|  Happy|      4|      2|  Finance|\n",
            "|   106|   Cute|      5|      1|       HR|\n",
            "|   106|   Cute|      5|      2|  Finance|\n",
            "+------+-------+-------+-------+---------+\n",
            "only showing top 20 rows\n",
            "\n",
            "+-------+-------+---------+\n",
            "|   name|dept_id|dept_name|\n",
            "+-------+-------+---------+\n",
            "|  Alice|      1|       HR|\n",
            "|    Bob|      2|  Finance|\n",
            "|Charlie|      1|       HR|\n",
            "|   Love|      2|  Finance|\n",
            "|   Kiki|      2|  Finance|\n",
            "|    Doe|      2|  Finance|\n",
            "+-------+-------+---------+\n",
            "\n",
            "== Physical Plan ==\n",
            "AdaptiveSparkPlan isFinalPlan=false\n",
            "+- BroadcastHashJoin [dept_id#361], [dept_id#365], Inner, BuildRight, false\n",
            "   :- Filter ((isnotnull(name#360) AND (((dept_id#361 = 1) OR (dept_id#361 = 2)) AND NOT (name#360 = ))) AND isnotnull(dept_id#361))\n",
            "   :  +- Scan ExistingRDD[emp_id#359,name#360,dept_id#361]\n",
            "   +- BroadcastExchange HashedRelationBroadcastMode(List(cast(input[0, int, false] as bigint)),false), [plan_id=714]\n",
            "      +- Filter (((dept_id#365 = 1) OR (dept_id#365 = 2)) AND isnotnull(dept_id#365))\n",
            "         +- Scan ExistingRDD[dept_id#365,dept_name#366]\n",
            "\n",
            "\n"
          ]
        }
      ]
    },
    {
      "cell_type": "code",
      "source": [
        "read_csv_df=spark.read.csv(\"/content/employees.csv\",header=True)\n",
        "read_csv_df.show()\n",
        "read_csv_df.printSchema()"
      ],
      "metadata": {
        "colab": {
          "base_uri": "https://localhost:8080/"
        },
        "id": "c5s8_SDrkn1h",
        "outputId": "49dd6d50-c7f4-432b-a7c1-e9cb7d2aa126"
      },
      "execution_count": null,
      "outputs": [
        {
          "output_type": "stream",
          "name": "stdout",
          "text": [
            "+-----------+----------+---------+--------+------------+---------+----------+------+--------------+----------+-------------+\n",
            "|EMPLOYEE_ID|FIRST_NAME|LAST_NAME|   EMAIL|PHONE_NUMBER|HIRE_DATE|    JOB_ID|SALARY|COMMISSION_PCT|MANAGER_ID|DEPARTMENT_ID|\n",
            "+-----------+----------+---------+--------+------------+---------+----------+------+--------------+----------+-------------+\n",
            "|        198|    Donald| OConnell|DOCONNEL|650.507.9833|21-JUN-07|  SH_CLERK|  2600|            - |       124|           50|\n",
            "|        199|   Douglas|    Grant|  DGRANT|650.507.9844|13-JAN-08|  SH_CLERK|  2600|            - |       124|           50|\n",
            "|        200|  Jennifer|   Whalen| JWHALEN|515.123.4444|17-SEP-03|   AD_ASST|  4400|            - |       101|           10|\n",
            "|        201|   Michael|Hartstein|MHARTSTE|515.123.5555|17-FEB-04|    MK_MAN| 13000|            - |       100|           20|\n",
            "|        202|       Pat|      Fay|    PFAY|603.123.6666|17-AUG-05|    MK_REP|  6000|            - |       201|           20|\n",
            "|        203|     Susan|   Mavris| SMAVRIS|515.123.7777|07-JUN-02|    HR_REP|  6500|            - |       101|           40|\n",
            "|        204|   Hermann|     Baer|   HBAER|515.123.8888|07-JUN-02|    PR_REP| 10000|            - |       101|           70|\n",
            "|        205|   Shelley|  Higgins|SHIGGINS|515.123.8080|07-JUN-02|    AC_MGR| 12008|            - |       101|          110|\n",
            "|        206|   William|    Gietz|  WGIETZ|515.123.8181|07-JUN-02|AC_ACCOUNT|  8300|            - |       205|          110|\n",
            "|        100|    Steven|     King|   SKING|515.123.4567|17-JUN-03|   AD_PRES| 24000|            - |        - |           90|\n",
            "|        101|     Neena|  Kochhar|NKOCHHAR|515.123.4568|21-SEP-05|     AD_VP| 17000|            - |       100|           90|\n",
            "|        102|       Lex|  De Haan| LDEHAAN|515.123.4569|13-JAN-01|     AD_VP| 17000|            - |       100|           90|\n",
            "|        103| Alexander|   Hunold| AHUNOLD|590.423.4567|03-JAN-06|   IT_PROG|  9000|            - |       102|           60|\n",
            "|        104|     Bruce|    Ernst|  BERNST|590.423.4568|21-MAY-07|   IT_PROG|  6000|            - |       103|           60|\n",
            "|        105|     David|   Austin| DAUSTIN|590.423.4569|25-JUN-05|   IT_PROG|  4800|            - |       103|           60|\n",
            "|        106|     Valli|Pataballa|VPATABAL|590.423.4560|05-FEB-06|   IT_PROG|  4800|            - |       103|           60|\n",
            "|        107|     Diana|  Lorentz|DLORENTZ|590.423.5567|07-FEB-07|   IT_PROG|  4200|            - |       103|           60|\n",
            "|        108|     Nancy|Greenberg|NGREENBE|515.124.4569|17-AUG-02|    FI_MGR| 12008|            - |       101|          100|\n",
            "|        109|    Daniel|   Faviet| DFAVIET|515.124.4169|16-AUG-02|FI_ACCOUNT|  9000|            - |       108|          100|\n",
            "|        110|      John|     Chen|   JCHEN|515.124.4269|28-SEP-05|FI_ACCOUNT|  8200|            - |       108|          100|\n",
            "+-----------+----------+---------+--------+------------+---------+----------+------+--------------+----------+-------------+\n",
            "only showing top 20 rows\n",
            "\n",
            "root\n",
            " |-- EMPLOYEE_ID: string (nullable = true)\n",
            " |-- FIRST_NAME: string (nullable = true)\n",
            " |-- LAST_NAME: string (nullable = true)\n",
            " |-- EMAIL: string (nullable = true)\n",
            " |-- PHONE_NUMBER: string (nullable = true)\n",
            " |-- HIRE_DATE: string (nullable = true)\n",
            " |-- JOB_ID: string (nullable = true)\n",
            " |-- SALARY: string (nullable = true)\n",
            " |-- COMMISSION_PCT: string (nullable = true)\n",
            " |-- MANAGER_ID: string (nullable = true)\n",
            " |-- DEPARTMENT_ID: string (nullable = true)\n",
            "\n"
          ]
        }
      ]
    },
    {
      "cell_type": "code",
      "source": [
        "emp.join(broadcast(dept),how=\"inner\",on=(emp.dept_id==dept.dept_id) & ((emp.dept_id==1) | (emp.dept_id==2))"
      ],
      "metadata": {
        "colab": {
          "base_uri": "https://localhost:8080/",
          "height": 106
        },
        "id": "cA333Y4Zs5_H",
        "outputId": "3e53a6fb-b50a-4378-b309-97bfa745b11f"
      },
      "execution_count": null,
      "outputs": [
        {
          "output_type": "error",
          "ename": "SyntaxError",
          "evalue": "incomplete input (<ipython-input-12-e092f684889c>, line 1)",
          "traceback": [
            "\u001b[0;36m  File \u001b[0;32m\"<ipython-input-12-e092f684889c>\"\u001b[0;36m, line \u001b[0;32m1\u001b[0m\n\u001b[0;31m    emp.join(broadcast(dept),how=\"inner\",on=(emp.dept_id==dept.dept_id) & ((emp.dept_id==1) | (emp.dept_id==2))\u001b[0m\n\u001b[0m                                                                                                               ^\u001b[0m\n\u001b[0;31mSyntaxError\u001b[0m\u001b[0;31m:\u001b[0m incomplete input\n"
          ]
        }
      ]
    },
    {
      "cell_type": "code",
      "source": [
        "from pyspark.sql.functions import when\n",
        "df=spark.read.csv(\"/content/employees.csv\",header=True, inferSchema=True)\n",
        "df.show()\n",
        "df.printSchema()\n",
        "df.withColumn(\"New\",when(df.JOB_ID==\"\",\"Outsider\").otherwise(df.JOB_ID)).show()"
      ],
      "metadata": {
        "colab": {
          "base_uri": "https://localhost:8080/"
        },
        "id": "4YJUkJTSZ_qE",
        "outputId": "16fb78ee-d6d9-4aeb-f2f0-44c18a7f66ae"
      },
      "execution_count": null,
      "outputs": [
        {
          "output_type": "stream",
          "name": "stdout",
          "text": [
            "+-----------+----------+---------+--------+------------+---------+----------+------+--------------+----------+-------------+\n",
            "|EMPLOYEE_ID|FIRST_NAME|LAST_NAME|   EMAIL|PHONE_NUMBER|HIRE_DATE|    JOB_ID|SALARY|COMMISSION_PCT|MANAGER_ID|DEPARTMENT_ID|\n",
            "+-----------+----------+---------+--------+------------+---------+----------+------+--------------+----------+-------------+\n",
            "|        198|    Donald| OConnell|DOCONNEL|650.507.9833|21-Jun-07|  SH_CLERK|  2600|            - |       124|           50|\n",
            "|        199|   Douglas|    Grant|  DGRANT|650.507.9844|13-Jan-08|  SH_CLERK|  2600|            - |       124|           50|\n",
            "|        200|  Jennifer|   Whalen| JWHALEN|515.123.4444|17-Sep-03|   AD_ASST|  4400|            - |       101|           10|\n",
            "|        201|   Michael|Hartstein|MHARTSTE|515.123.5555|17-Feb-04|    MK_MAN| 13000|            - |       100|           20|\n",
            "|        202|       Pat|      Fay|    PFAY|603.123.6666|17-Aug-05|    MK_REP|  6000|            - |       201|           20|\n",
            "|        203|     Susan|   Mavris| SMAVRIS|515.123.7777|07-Jun-02|    HR_REP|  6500|            - |       101|           40|\n",
            "|        204|   Hermann|     Baer|   HBAER|515.123.8888|07-Jun-02|    PR_REP| 10000|            - |       101|           70|\n",
            "|        205|   Shelley|  Higgins|SHIGGINS|515.123.8080|07-Jun-02|      NULL| 12008|            - |       101|          110|\n",
            "|        206|   William|    Gietz|  WGIETZ|515.123.8181|07-Jun-02|AC_ACCOUNT|  8300|            - |       205|          110|\n",
            "|        100|    Steven|     King|   SKING|515.123.4567|17-Jun-03|   AD_PRES| 24000|            - |        - |           90|\n",
            "|        101|     Neena|  Kochhar|NKOCHHAR|515.123.4568|21-Sep-05|     AD_VP| 17000|            - |       100|           90|\n",
            "|        102|       Lex|  De Haan| LDEHAAN|515.123.4569|13-Jan-01|     AD_VP| 17000|            - |       100|           90|\n",
            "|        103| Alexander|   Hunold| AHUNOLD|590.423.4567|03-Jan-06|   IT_PROG|  9000|            - |       102|           60|\n",
            "|        104|     Bruce|    Ernst|  BERNST|590.423.4568|21-May-07|   IT_PROG|  6000|            - |       103|           60|\n",
            "|        105|     David|   Austin| DAUSTIN|590.423.4569|25-Jun-05|   IT_PROG|  4800|            - |       103|           60|\n",
            "|        106|     Valli|Pataballa|VPATABAL|590.423.4560|05-Feb-06|   IT_PROG|  4800|            - |       103|           60|\n",
            "|        107|     Diana|  Lorentz|DLORENTZ|590.423.5567|07-Feb-07|   IT_PROG|  4200|            - |       103|           60|\n",
            "|        108|     Nancy|Greenberg|NGREENBE|515.124.4569|17-Aug-02|    FI_MGR| 12008|            - |       101|          100|\n",
            "|        109|    Daniel|   Faviet| DFAVIET|515.124.4169|16-Aug-02|FI_ACCOUNT|  9000|            - |       108|          100|\n",
            "|        110|      John|     Chen|   JCHEN|515.124.4269|28-Sep-05|FI_ACCOUNT|  8200|            - |       108|          100|\n",
            "+-----------+----------+---------+--------+------------+---------+----------+------+--------------+----------+-------------+\n",
            "only showing top 20 rows\n",
            "\n",
            "root\n",
            " |-- EMPLOYEE_ID: integer (nullable = true)\n",
            " |-- FIRST_NAME: string (nullable = true)\n",
            " |-- LAST_NAME: string (nullable = true)\n",
            " |-- EMAIL: string (nullable = true)\n",
            " |-- PHONE_NUMBER: string (nullable = true)\n",
            " |-- HIRE_DATE: string (nullable = true)\n",
            " |-- JOB_ID: string (nullable = true)\n",
            " |-- SALARY: integer (nullable = true)\n",
            " |-- COMMISSION_PCT: string (nullable = true)\n",
            " |-- MANAGER_ID: string (nullable = true)\n",
            " |-- DEPARTMENT_ID: integer (nullable = true)\n",
            "\n",
            "+-----------+----------+---------+--------+------------+---------+----------+------+--------------+----------+-------------+----------+\n",
            "|EMPLOYEE_ID|FIRST_NAME|LAST_NAME|   EMAIL|PHONE_NUMBER|HIRE_DATE|    JOB_ID|SALARY|COMMISSION_PCT|MANAGER_ID|DEPARTMENT_ID|       New|\n",
            "+-----------+----------+---------+--------+------------+---------+----------+------+--------------+----------+-------------+----------+\n",
            "|        198|    Donald| OConnell|DOCONNEL|650.507.9833|21-Jun-07|  SH_CLERK|  2600|            - |       124|           50|  SH_CLERK|\n",
            "|        199|   Douglas|    Grant|  DGRANT|650.507.9844|13-Jan-08|  SH_CLERK|  2600|            - |       124|           50|  SH_CLERK|\n",
            "|        200|  Jennifer|   Whalen| JWHALEN|515.123.4444|17-Sep-03|   AD_ASST|  4400|            - |       101|           10|   AD_ASST|\n",
            "|        201|   Michael|Hartstein|MHARTSTE|515.123.5555|17-Feb-04|    MK_MAN| 13000|            - |       100|           20|    MK_MAN|\n",
            "|        202|       Pat|      Fay|    PFAY|603.123.6666|17-Aug-05|    MK_REP|  6000|            - |       201|           20|    MK_REP|\n",
            "|        203|     Susan|   Mavris| SMAVRIS|515.123.7777|07-Jun-02|    HR_REP|  6500|            - |       101|           40|    HR_REP|\n",
            "|        204|   Hermann|     Baer|   HBAER|515.123.8888|07-Jun-02|    PR_REP| 10000|            - |       101|           70|    PR_REP|\n",
            "|        205|   Shelley|  Higgins|SHIGGINS|515.123.8080|07-Jun-02|      NULL| 12008|            - |       101|          110|      NULL|\n",
            "|        206|   William|    Gietz|  WGIETZ|515.123.8181|07-Jun-02|AC_ACCOUNT|  8300|            - |       205|          110|AC_ACCOUNT|\n",
            "|        100|    Steven|     King|   SKING|515.123.4567|17-Jun-03|   AD_PRES| 24000|            - |        - |           90|   AD_PRES|\n",
            "|        101|     Neena|  Kochhar|NKOCHHAR|515.123.4568|21-Sep-05|     AD_VP| 17000|            - |       100|           90|     AD_VP|\n",
            "|        102|       Lex|  De Haan| LDEHAAN|515.123.4569|13-Jan-01|     AD_VP| 17000|            - |       100|           90|     AD_VP|\n",
            "|        103| Alexander|   Hunold| AHUNOLD|590.423.4567|03-Jan-06|   IT_PROG|  9000|            - |       102|           60|   IT_PROG|\n",
            "|        104|     Bruce|    Ernst|  BERNST|590.423.4568|21-May-07|   IT_PROG|  6000|            - |       103|           60|   IT_PROG|\n",
            "|        105|     David|   Austin| DAUSTIN|590.423.4569|25-Jun-05|   IT_PROG|  4800|            - |       103|           60|   IT_PROG|\n",
            "|        106|     Valli|Pataballa|VPATABAL|590.423.4560|05-Feb-06|   IT_PROG|  4800|            - |       103|           60|   IT_PROG|\n",
            "|        107|     Diana|  Lorentz|DLORENTZ|590.423.5567|07-Feb-07|   IT_PROG|  4200|            - |       103|           60|   IT_PROG|\n",
            "|        108|     Nancy|Greenberg|NGREENBE|515.124.4569|17-Aug-02|    FI_MGR| 12008|            - |       101|          100|    FI_MGR|\n",
            "|        109|    Daniel|   Faviet| DFAVIET|515.124.4169|16-Aug-02|FI_ACCOUNT|  9000|            - |       108|          100|FI_ACCOUNT|\n",
            "|        110|      John|     Chen|   JCHEN|515.124.4269|28-Sep-05|FI_ACCOUNT|  8200|            - |       108|          100|FI_ACCOUNT|\n",
            "+-----------+----------+---------+--------+------------+---------+----------+------+--------------+----------+-------------+----------+\n",
            "only showing top 20 rows\n",
            "\n"
          ]
        }
      ]
    }
  ],
  "metadata": {
    "colab": {
      "provenance": [],
      "toc_visible": true,
      "authorship_tag": "ABX9TyPHkrO7DiP561adHHUz0X8r",
      "include_colab_link": true
    },
    "kernelspec": {
      "display_name": "Python 3",
      "name": "python3"
    },
    "language_info": {
      "name": "python"
    }
  },
  "nbformat": 4,
  "nbformat_minor": 0
}