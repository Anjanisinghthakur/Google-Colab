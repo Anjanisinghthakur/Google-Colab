{
  "cells": [
    {
      "cell_type": "markdown",
      "metadata": {
        "id": "view-in-github",
        "colab_type": "text"
      },
      "source": [
        "<a href=\"https://colab.research.google.com/github/Anjanisinghthakur/Google-Colab/blob/main/Basics.ipynb\" target=\"_parent\"><img src=\"https://colab.research.google.com/assets/colab-badge.svg\" alt=\"Open In Colab\"/></a>"
      ]
    },
    {
      "cell_type": "code",
      "execution_count": 2,
      "metadata": {
        "colab": {
          "base_uri": "https://localhost:8080/"
        },
        "id": "4xQ4PJJFbvjK",
        "outputId": "3d434b56-f888-43dc-c6bb-339d3a9c44d4"
      },
      "outputs": [
        {
          "output_type": "execute_result",
          "data": {
            "text/plain": [
              "480000"
            ]
          },
          "metadata": {},
          "execution_count": 2
        }
      ],
      "source": [
        "from pyspark.sql import SparkSession\n",
        "\n",
        "spark = SparkSession.builder \\\n",
        "        .master('local[*]') \\\n",
        "        .appName('Basics') \\\n",
        "        .getOrCreate()\n",
        "lst=[100,2,5,6,8,10,1]\n",
        "rr= spark.sparkContext.parallelize(lst,2)\n",
        "rr.reduce(lambda x,y: x+y)\n",
        "rr.reduce(lambda x,y: x*y)"
      ]
    },
    {
      "cell_type": "code",
      "execution_count": 9,
      "metadata": {
        "colab": {
          "base_uri": "https://localhost:8080/"
        },
        "id": "pf54alM3eh-q",
        "outputId": "e13f9042-e603-4206-8d85-716c812b00ee"
      },
      "outputs": [
        {
          "output_type": "stream",
          "name": "stdout",
          "text": [
            "+-----+--------+-----------+\n",
            "|empID|Mananger|   Position|\n",
            "+-----+--------+-----------+\n",
            "|    1|   Gagan|        SSE|\n",
            "|    2|    Ravi|         DE|\n",
            "|    3|   Tommy|         SE|\n",
            "|    4|  Neelam|         PM|\n",
            "|    5|    Jaya|Consulatant|\n",
            "|    6|   Rudra|        SSE|\n",
            "|    7|    Anju|        SSE|\n",
            "|    8| Prakshi|         DE|\n",
            "+-----+--------+-----------+\n",
            "\n",
            "+-----+------+------+\n",
            "|Empid|  Name|Salary|\n",
            "+-----+------+------+\n",
            "|    1| Harry| 30000|\n",
            "|    2|  Ron | 35000|\n",
            "|    3|Fatima| 40000|\n",
            "|    4| larry| 45000|\n",
            "|    5| Reema| 50000|\n",
            "|    6|  Jean| 55000|\n",
            "|    7|Jarvis| 60000|\n",
            "|    8| Happy| 65000|\n",
            "|    9|   Tom| 70000|\n",
            "+-----+------+------+\n",
            "\n",
            "+-----+--------+-----------+------+------+\n",
            "|Empid|Mananger|   Position|  Name|Salary|\n",
            "+-----+--------+-----------+------+------+\n",
            "|    1|   Gagan|        SSE| Harry| 30000|\n",
            "|    2|    Ravi|         DE|  Ron | 35000|\n",
            "|    3|   Tommy|         SE|Fatima| 40000|\n",
            "|    4|  Neelam|         PM| larry| 45000|\n",
            "|    5|    Jaya|Consulatant| Reema| 50000|\n",
            "|    6|   Rudra|        SSE|  Jean| 55000|\n",
            "|    7|    Anju|        SSE|Jarvis| 60000|\n",
            "|    8| Prakshi|         DE| Happy| 65000|\n",
            "|    9|    NULL|       NULL|   Tom| 70000|\n",
            "+-----+--------+-----------+------+------+\n",
            "\n",
            "Data types of all the columns is : [('Empid', 'string'), ('Mananger', 'string'), ('Position', 'string'), ('Name', 'string'), ('Salary', 'string')]\n",
            "+-----------+-----------+\n",
            "|   Position|sum(Salary)|\n",
            "+-----------+-----------+\n",
            "|         PM|      45000|\n",
            "|        SSE|     145000|\n",
            "|       NULL|      70000|\n",
            "|         DE|     100000|\n",
            "|Consulatant|      50000|\n",
            "|         SE|      40000|\n",
            "+-----------+-----------+\n",
            "\n",
            "Data types of all the columns is : [('Position', 'string'), ('sum(Salary)', 'bigint')]\n",
            "Removing Nulls\n",
            "+-----------+-----------+\n",
            "|   Position|sum(Salary)|\n",
            "+-----------+-----------+\n",
            "|         PM|      45000|\n",
            "|        SSE|     145000|\n",
            "|         DE|     100000|\n",
            "|Consulatant|      50000|\n",
            "|         SE|      40000|\n",
            "+-----------+-----------+\n",
            "\n",
            "Sorting Data\n",
            "+-----------+-----------+\n",
            "|   Position|sum(Salary)|\n",
            "+-----------+-----------+\n",
            "|         SE|      40000|\n",
            "|         PM|      45000|\n",
            "|Consulatant|      50000|\n",
            "|       NULL|      70000|\n",
            "|         DE|     100000|\n",
            "|        SSE|     145000|\n",
            "+-----------+-----------+\n",
            "\n",
            "+--------+-----------+\n",
            "|Position|sum(Salary)|\n",
            "+--------+-----------+\n",
            "|      DE|     100000|\n",
            "+--------+-----------+\n",
            "\n"
          ]
        }
      ],
      "source": [
        "#join dataframes\n",
        "df1=spark.read.csv('/content/sample_data/file1.csv', header=True)\n",
        "df1.show()\n",
        "df2=spark.read.csv('/content/sample_data/file2.csv', header=True)\n",
        "df2.show()\n",
        "res=df1.join(df2,on='empID',how='right')\n",
        "res.show()\n",
        "print(f'Data types of all the columns is : {res.dtypes}')\n",
        "#Type conversion\n",
        "res1=df = res.withColumn(\"Salary\", res[\"Salary\"].cast(\"integer\"))\n",
        "#Aggregarion\n",
        "df3=res1.groupBy('Position').sum('Salary')\n",
        "df3.show()\n",
        "print(f'Data types of all the columns is : {df3.dtypes}')\n",
        "#Sort data\n",
        "print(\"Removing Nulls\")\n",
        "df3.filter(df3['Position']!='').show()\n",
        "print(\"Sorting Data\")\n",
        "df3.orderBy('sum(Salary)', ascending=True).show()\n",
        "#Filtering Data\n",
        "df4=df3.filter(res['Position']=='DE')\n",
        "df4.show()\n"
      ]
    },
    {
      "cell_type": "code",
      "execution_count": null,
      "metadata": {
        "id": "euX0BkWLemWC"
      },
      "outputs": [],
      "source": []
    }
  ],
  "metadata": {
    "colab": {
      "provenance": [],
      "authorship_tag": "ABX9TyMzHzI8GkbDxj3lmedwq5KH",
      "include_colab_link": true
    },
    "kernelspec": {
      "display_name": "Python 3",
      "name": "python3"
    },
    "language_info": {
      "name": "python"
    }
  },
  "nbformat": 4,
  "nbformat_minor": 0
}